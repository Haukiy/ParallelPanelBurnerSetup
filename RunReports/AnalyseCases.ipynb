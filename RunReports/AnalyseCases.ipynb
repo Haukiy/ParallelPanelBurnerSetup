{
 "cells": [
  {
   "cell_type": "code",
   "execution_count": null,
   "metadata": {},
   "outputs": [],
   "source": [
    "import os\n",
    "import pylab\n",
    "import string\n",
    "import fdsreader\n",
    "import matplotlib\n",
    "import subprocess\n",
    "\n",
    "import matplotlib.pyplot as plt\n",
    "import numpy as np\n",
    "import pandas as pd\n",
    "\n",
    "from importlib import reload\n",
    "from matplotlib.colors import LinearSegmentedColormap\n",
    "from scipy.ndimage import gaussian_filter\n",
    "import spotpy\n",
    "from scipy.stats.qmc import LatinHypercube\n",
    "from pyDOE import lhs\n",
    "import random\n",
    "import shutil"
   ]
  },
  {
   "cell_type": "markdown",
   "metadata": {},
   "source": [
    "## Load Experiment data"
   ]
  },
  {
   "cell_type": "code",
   "execution_count": null,
   "metadata": {},
   "outputs": [],
   "source": [
    "sims_path = os.path.join(\"../BurnerSims/LHC_Cases_030423\")\n",
    "os.listdir(sims_path)"
   ]
  },
  {
   "cell_type": "code",
   "execution_count": null,
   "metadata": {},
   "outputs": [],
   "source": [
    "seed_fld=\"cases0_6062\"\n",
    "sims_path_seed=os.path.join(sims_path,seed_fld)"
   ]
  },
  {
   "cell_type": "code",
   "execution_count": null,
   "metadata": {},
   "outputs": [],
   "source": [
    "# main path\n",
    "LHC_sample_csv=pd.read_csv(f'TableData/case0_param_values.csv', header=0)\n",
    "\n",
    "# Path to experiment data\n",
    "exp_root = os.path.join(\"../GeneralInformation/macfp-db\")\n",
    "exp_macfp_dir = os.path.join(exp_root+\"/Fire_Growth/NIST_Parallel_Panel/Experimental_Data\")"
   ]
  },
  {
   "cell_type": "code",
   "execution_count": null,
   "metadata": {},
   "outputs": [],
   "source": [
    "# Load the table ofthe centerline - Burner_HF_Centerline_multi-layer.csv\n",
    "centreline_hf_path = os.path.join(exp_macfp_dir, \"Burner_HF_Centerline_multi-layer.csv\")\n",
    "centreline_hf_df = pd.read_csv(centreline_hf_path, header=0, skiprows=[1])\n",
    "\n",
    "# Load the table ofthe centerline - Burner_steadyHF_Width_multi-layer.csv\n",
    "ST_Width_layer_path = os.path.join(exp_macfp_dir, \"Burner_steadyHF_Width_multi-layer.csv\")\n",
    "ST_Width_layer_df = pd.read_csv(ST_Width_layer_path, header=0, skiprows=[1])\n"
   ]
  },
  {
   "cell_type": "code",
   "execution_count": null,
   "metadata": {},
   "outputs": [],
   "source": [
    "#Data of the experiment Center - time and Width - steady state\n",
    "hf_TIME_center = centreline_hf_df[[\"HF_z20\", \"HF_z50\", \"HF_z75\", \"HF_z100\"]].to_numpy()\n",
    "hf_STEADY_width = ST_Width_layer_df[[\"HF_y-25\", \"HF_y-15\", \"HF_y0\", \"HF_y15\", \"HF_y25\"]].to_numpy()"
   ]
  },
  {
   "cell_type": "markdown",
   "metadata": {},
   "source": [
    "## Prepare Sim results"
   ]
  },
  {
   "cell_type": "markdown",
   "metadata": {},
   "source": [
    "### SIM: Avg HF **CENTER**"
   ]
  },
  {
   "cell_type": "code",
   "execution_count": null,
   "metadata": {},
   "outputs": [],
   "source": [
    "# Define DEVC IDs and desired times\n",
    "devc_ids = [\"HF_y0_z20\", \"HF_y0_z50\", \"HF_y0_z75\", \"HF_y0_z100\"]\n",
    "desired_times = [20, 40, 60, 80]  # s\n",
    "\n",
    "# Define time window to average over\n",
    "frame_window = 3\n",
    "\n",
    "# Create an empty dictionary to store the results\n",
    "SIM_avg_HF_Center_dict = {}\n",
    "\n",
    "# Loop through each subfolder and read the CSV file\n",
    "for subdir in os.listdir(sims_path_seed):\n",
    "    if subdir.startswith(\"MaCFP_CASE0_sample\"):\n",
    "        # Extract the sample number from the subfolder name\n",
    "        sample_num = subdir.split(\"_\")[-1]\n",
    "        \n",
    "        # Find the DEVC CSV file in the subfolder\n",
    "        for file in os.listdir(os.path.join(sims_path_seed, subdir)):\n",
    "            if file.endswith(\"_devc.csv\") and file.startswith(\"MaCFP_Burner_CASE0_sample\") and file.endswith(f\"{sample_num}_devc.csv\"):\n",
    "                # Read the DEVC data from the CSV file\n",
    "                devc_data = pd.read_csv(os.path.join(sims_path_seed, subdir, file), header=1)\n",
    "\n",
    "                # Create an empty 2D array to store average flux values and MSEs\n",
    "                SIM_avg_Fluxes_center = np.zeros((len(devc_ids) + 1, len(desired_times)))\n",
    "\n",
    "                # Compute the average flux values for each DEVC ID and desired time\n",
    "                for i, devc_id in enumerate(devc_ids):\n",
    "                    for j, desired_time in enumerate(desired_times):\n",
    "                        # Compute time window to average over\n",
    "                        frames = desired_time * 2\n",
    "                        t_min = int(frames - frame_window)\n",
    "                        t_max = int(frames + frame_window + 1)\n",
    "\n",
    "                        # Compute average within the time window\n",
    "                        flux_avrg = np.average(devc_data[devc_id][t_min:t_max].to_numpy())\n",
    "\n",
    "                        # Store the average flux value in the array\n",
    "                        SIM_avg_Fluxes_center[i, j] = flux_avrg\n",
    "\n",
    "                # Compute the mean squared error (MSE) for each desired time\n",
    "                for j, desired_time in enumerate(desired_times):\n",
    "                    SIM_avg_Fluxes_center[-1, j] = np.mean((SIM_avg_Fluxes_center[:-1, j] - hf_TIME_center) ** 2)\n",
    "\n",
    "                # Add the results to the dictionary using the sample number as the key\n",
    "                SIM_avg_HF_Center_dict[f'Case0_{sample_num}'] = SIM_avg_Fluxes_center\n",
    "\n",
    "# Print the number of samples\n",
    "print(len(SIM_avg_HF_Center_dict))\n",
    "\n",
    "# Convert the nested dictionary to a dataframe and save it to a CSV file\n",
    "data = {key: value.flatten() for key, value in SIM_avg_HF_Center_dict.items()}\n",
    "columns = []\n",
    "for j, desired_time in enumerate(desired_times):\n",
    "    for devc_id in devc_ids:\n",
    "        columns.append(f\"{devc_id}_T{desired_time}\")\n",
    "    columns.append(f\"MSE_T{desired_time}\")\n",
    "\n",
    "df = pd.DataFrame.from_dict(data, orient=\"index\", columns=columns)\n",
    "df.index.name = \"sample_num\"\n",
    "df.to_csv(\"TableData/SIM_avg_HF_Center.csv\")\n"
   ]
  },
  {
   "cell_type": "code",
   "execution_count": null,
   "metadata": {},
   "outputs": [],
   "source": [
    "pd.read_csv(\"TableData/SIM_avg_HF_Center.csv\", header=0)"
   ]
  },
  {
   "cell_type": "markdown",
   "metadata": {},
   "source": [
    "### SIM: **SURFACE** HF "
   ]
  },
  {
   "cell_type": "code",
   "execution_count": null,
   "metadata": {},
   "outputs": [],
   "source": [
    "# Define DEVC IDs using nested loops\n",
    "heights = [\"z20\", \"z50\", \"z75\", \"z100\"]\n",
    "y_positions = [\"-25\", \"-15\", \"0\", \"15\", \"25\"]\n",
    "devc_ids = [f\"HF_y{y_pos}_{height}\" for height in heights for y_pos in y_positions]\n",
    "\n",
    "# Function to process a single file\n",
    "def process_devc_file(filepath):\n",
    "    # Read the DEVC data from the CSV file\n",
    "    devc_data = pd.read_csv(filepath, header=1)\n",
    "    \n",
    "    # Compute the average for each device column over the last 20 entries\n",
    "    devc_data_avg = devc_data[devc_ids].tail(20).mean().to_dict()\n",
    "\n",
    "    # Compute the mean squared error for the averaged data\n",
    "    mse = ((np.array(list(devc_data_avg.values())) - hf_STEADY_width) ** 2).mean()\n",
    "\n",
    "    # Add the mse to the devc_data_avg dictionary\n",
    "    devc_data_avg[\"mse\"] = mse\n",
    "\n",
    "    return devc_data_avg\n",
    "\n",
    "# Loop through each subfolder and read the CSV file\n",
    "SIM_HF_surface = {}\n",
    "for subdir in os.listdir(sims_path_seed):\n",
    "    if subdir.startswith(\"MaCFP_CASE0_sample\"):\n",
    "        # Extract the sample number from the subfolder name\n",
    "        sample_num = subdir.split(\"_\")[-1]\n",
    "        \n",
    "        # Find the DEVC CSV file in the subfolder\n",
    "        devc_csv_pattern = f\"MaCFP_Burner_CASE0_sample{sample_num}_devc.csv\"\n",
    "        csv_files = [file for file in os.listdir(os.path.join(sims_path_seed, subdir)) if file.startswith(devc_csv_pattern)]\n",
    "        \n",
    "        if csv_files:\n",
    "            # Process the file and add the results to the dictionary\n",
    "            filepath = os.path.join(sims_path_seed, subdir, csv_files[0])\n",
    "            SIM_HF_surface[sample_num] = process_devc_file(filepath)\n",
    "\n",
    "# Convert the dictionary to a dataframe and save it to a CSV file\n",
    "df = pd.DataFrame.from_dict(results, orient=\"index\", columns=devc_ids+['MSE'])\n",
    "df.index.name = \"sample_num\"\n",
    "df.to_csv(\"TableData/SIM_HF_surface.csv\")\n"
   ]
  },
  {
   "cell_type": "code",
   "execution_count": null,
   "metadata": {},
   "outputs": [],
   "source": [
    "pd.read_csv(\"TableData/SIM_HF_surface.csv\", header=0)"
   ]
  },
  {
   "cell_type": "markdown",
   "metadata": {},
   "source": [
    "## LHC Parameter overview and distribution"
   ]
  },
  {
   "cell_type": "code",
   "execution_count": null,
   "metadata": {},
   "outputs": [],
   "source": [
    "# Plot LHC Parameters for an overview\n",
    "# Create a grid of plots with 2 columns\n",
    "fig, axs = plt.subplots(nrows=len(data_csv.columns), ncols=2, figsize=(12, 24))\n",
    "\n",
    "# Analyze distribution and plot line for each column\n",
    "for i, col in enumerate(LHC_sample_csv.columns):\n",
    "    axs[i, 0].hist(LHC_sample_csv[col],bins=20)\n",
    "    axs[i, 0].set_title(f\"Distribution of {col}\")\n",
    "    axs[i, 0].set_xlabel(col)\n",
    "    axs[i, 0].set_ylabel(\"Frequency\")\n",
    "    axs[i, 1].plot(data_csv[col])\n",
    "    axs[i, 1].set_title(col)\n",
    "    axs[i, 1].set_xlabel(\"Index\")\n",
    "    axs[i, 1].set_ylabel(col)\n",
    "\n",
    "plt.tight_layout()\n",
    "plt.show()\n"
   ]
  },
  {
   "cell_type": "markdown",
   "metadata": {},
   "source": [
    "# Compare parameter with result"
   ]
  },
  {
   "cell_type": "markdown",
   "metadata": {},
   "source": [
    "## Surface"
   ]
  },
  {
   "cell_type": "code",
   "execution_count": null,
   "metadata": {},
   "outputs": [],
   "source": [
    "# Read the CSV files\n",
    "lhc_df = pd.read_csv(\"TableData/cases0_param_values.csv\")\n",
    "sim_hf_df = pd.read_csv(\"TableData/SIM_HF_surface.csv\")\n",
    "\n",
    "# Extract the MSE values \n",
    "mse_values = sim_hf_df.loc[:, sim_hf_df.columns.str.startswith(\"MSE\")].values\n",
    "\n",
    "# Loop through the columns in the LHC_sample_csv.csv file and create a plot for each parameter\n",
    "for column in lhc_df.columns:\n",
    "    plt.figure()\n",
    "    \n",
    "    # Plot the parameter values on the y-axis against the MSE values on the x-axis\n",
    "    plt.scatter(mse_values, lhc_df[column])\n",
    "\n",
    "    # Set plot labels and title\n",
    "    plt.xlabel(\"MSE\")\n",
    "    plt.ylabel(column)\n",
    "    plt.title(f\"{column} vs. MSE\")\n",
    "\n",
    " \n",
    "    # Show the plot\n",
    "    plt.show()\n"
   ]
  },
  {
   "cell_type": "markdown",
   "metadata": {},
   "source": [
    "## Time 20 s"
   ]
  },
  {
   "cell_type": "code",
   "execution_count": null,
   "metadata": {},
   "outputs": [],
   "source": [
    "# Read the CSV files\n",
    "lhc_df = pd.read_csv(\"TableData/cases0_param_values.csv\")\n",
    "sim_hf_df = pd.read_csv(\"TableData/SIM_avg_HF_Center.csv\")\n",
    "\n",
    "# Extract the MSE values \n",
    "mse_values = sim_hf_df.loc[:, sim_hf_df.columns.str.startswith(\"MSE_T20\")].values\n",
    "\n",
    "# Loop through the columns in the LHC_sample_csv.csv file and create a plot for each parameter\n",
    "for column in lhc_df.columns:\n",
    "    plt.figure()\n",
    "    \n",
    "    # Plot the parameter values on the y-axis against the MSE values on the x-axis\n",
    "    plt.scatter(mse_values, lhc_df[column])\n",
    "\n",
    "    # Set plot labels and title\n",
    "    plt.xlabel(\"MSE\")\n",
    "    plt.ylabel(column)\n",
    "    plt.title(f\"{column} vs. MSE\")\n",
    "\n",
    " \n",
    "    # Show the plot\n",
    "    plt.show()\n"
   ]
  },
  {
   "cell_type": "code",
   "execution_count": null,
   "metadata": {},
   "outputs": [],
   "source": []
  }
 ],
 "metadata": {
  "language_info": {
   "name": "python",
   "pygments_lexer": "ipython3"
  }
 },
 "nbformat": 4,
 "nbformat_minor": 4
}
